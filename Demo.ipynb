{
 "cells": [
  {
   "cell_type": "code",
   "execution_count": null,
   "id": "be97f7b9",
   "metadata": {},
   "outputs": [
    {
     "name": "stdout",
     "output_type": "stream",
     "text": [
      "running build_ext\n"
     ]
    }
   ],
   "source": [
    "import numpy as np\n",
    "import matplotlib.pyplot as plt\n",
    "import bh_potential as bh\n",
    "import time"
   ]
  },
  {
   "cell_type": "markdown",
   "id": "cd7bc592",
   "metadata": {},
   "source": [
    "### Define a test distribution "
   ]
  },
  {
   "cell_type": "code",
   "execution_count": null,
   "id": "cfa940ed",
   "metadata": {},
   "outputs": [],
   "source": [
    "# Generate a test distribution\n",
    "np.random.seed(10)\n",
    "masses, positions, cluster_n = bh.generate_test_distribution(N_pot_main=25000)\n",
    "\n",
    "# Plot the particle positions with a different colour for each cluster\n",
    "fig, ax = plt.subplots(figsize=(8, 8))\n",
    "\n",
    "ax.scatter(positions[:, 0], positions[:, 1], c=cluster_n, marker=',', s=0.1, cmap='rainbow');\n",
    "ax.text(0.98, 0.98, 'Particle distribution', transform=ax.transAxes,\n",
    "            fontsize=16, va='top', ha='right');"
   ]
  },
  {
   "cell_type": "markdown",
   "id": "7c93b7d0",
   "metadata": {},
   "source": [
    "### Build the octree"
   ]
  },
  {
   "cell_type": "code",
   "execution_count": null,
   "id": "371ef564",
   "metadata": {},
   "outputs": [],
   "source": [
    "t0 = time.time()\n",
    "octree = bh.Octree(positions, masses, max_depth=12) # Build the octree\n",
    "t1 = time.time()\n",
    "\n",
    "print('built tree using %i particles in %0.1f seconds' % (len(positions), t1-t0))\n",
    "\n",
    "octree.plot_octree_slice() # Plot the octree structure"
   ]
  },
  {
   "cell_type": "markdown",
   "id": "a3ec00e3",
   "metadata": {},
   "source": [
    "### Evaluating the value of the potential at a grid of points"
   ]
  },
  {
   "cell_type": "code",
   "execution_count": null,
   "id": "3a34f3e5",
   "metadata": {},
   "outputs": [],
   "source": [
    "# Create a regular 2-d grid to evaluate the potential\n",
    "num_points = 100  # Number of points along each axis for the grid\n",
    "x_grid = y_grid = np.linspace(np.min(positions), np.max(positions), num_points)\n",
    "x_mesh, y_mesh = np.meshgrid(x_grid, y_grid)\n",
    "test_positions = np.vstack([x_mesh.ravel(), y_mesh.ravel(), np.zeros_like(x_mesh.ravel())]).T\n",
    "\n",
    "t0 = time.time()\n",
    "test_potentials = octree.compute_potentials(test_positions) # Now evaluate the potential at the these positions\n",
    "t1 = time.time()\n",
    "print('evaluated potential for %i positions in %0.1f seconds' % (len(test_positions), t1-t0))\n",
    "\n",
    "# Plot the values of the potential as contours\n",
    "fig, ax = plt.subplots(figsize=(9, 8))\n",
    "\n",
    "potential_map = test_potentials.reshape(x_mesh.shape)\n",
    "c = ax.contourf(x_mesh, y_mesh, potential_map, 20, cmap='cividis')\n",
    "fig.colorbar(c, ax=ax, label='$\\phi$ [km$^{2}$ s$^{-2}$]', pad=0, aspect=40)\n",
    "ax.text(0.98, 0.98, 'Potential map', transform=ax.transAxes,\n",
    "            fontsize=16, va='top', ha='right');"
   ]
  },
  {
   "cell_type": "markdown",
   "id": "8a19a9c8",
   "metadata": {},
   "source": [
    "### Evaluating the potential at each particle position"
   ]
  },
  {
   "cell_type": "code",
   "execution_count": null,
   "id": "5f1df57b",
   "metadata": {},
   "outputs": [],
   "source": [
    "t0 = time.time()\n",
    "potentials = octree.compute_potentials(positions) # Evaluate the potential at the position of each particle\n",
    "t1 = time.time()\n",
    "print('evaluated potential for %i positions in %0.1f seconds' % (len(positions), t1-t0))\n",
    "\n",
    "# Sort by radius\n",
    "r = np.sqrt(np.sum(positions**2, axis=1))\n",
    "s = np.argsort(r)\n",
    "\n",
    "# Plot the value of the potential against radius\n",
    "fig, ax = plt.subplots(figsize=(8, 8))\n",
    "\n",
    "ax.scatter(r[s], potentials[s], c=cluster_n[s], marker=',', s=0.1, cmap='rainbow');\n",
    "ax.set_xlabel('R [kpc]')\n",
    "ax.set_ylabel('$\\phi$ [km$^{2}$ s$^{-2}$]');\n",
    "ax.text(0.98, 0.98, 'Potential at each particle position', transform=ax.transAxes,\n",
    "            fontsize=16, va='top', ha='right');"
   ]
  }
 ],
 "metadata": {
  "kernelspec": {
   "display_name": "Python (base)",
   "language": "python",
   "name": "base"
  },
  "language_info": {
   "codemirror_mode": {
    "name": "ipython",
    "version": 3
   },
   "file_extension": ".py",
   "mimetype": "text/x-python",
   "name": "python",
   "nbconvert_exporter": "python",
   "pygments_lexer": "ipython3",
   "version": "3.11.5"
  }
 },
 "nbformat": 4,
 "nbformat_minor": 5
}
